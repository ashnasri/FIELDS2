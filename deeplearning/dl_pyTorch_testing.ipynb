{
 "cells": [
  {
   "cell_type": "code",
   "execution_count": 30,
   "metadata": {},
   "outputs": [],
   "source": [
    "import torch\n",
    "import torch.nn as nn\n",
    "from torchvision import models, transforms\n",
    "from PIL import Image\n",
    "import matplotlib.pyplot as plt\n",
    "\n",
    "# Define the device (CPU or GPU)\n",
    "device = torch.device('cuda' if torch.cuda.is_available() else 'cpu')\n",
    "\n",
    "# Load the pre-trained model and modify the final layer for two classes\n",
    "model = models.resnet18(pretrained=False)\n",
    "num_ftrs = model.fc.in_features\n",
    "model.fc = nn.Linear(num_ftrs, 2)\n",
    "\n",
    "# Load the model state dict with CPU mapping if needed\n",
    "model.load_state_dict(torch.load('modelDvsC.pth', map_location=device))\n",
    "model = model.to(device)\n"
   ]
  },
  {
   "cell_type": "code",
   "execution_count": 31,
   "metadata": {},
   "outputs": [],
   "source": [
    "# Function to test the model on a single image\n",
    "def predict_image(image_path, model, device):\n",
    "    model.eval()  # Set the model to evaluation mode\n",
    "    transform = transforms.Compose([\n",
    "        transforms.Resize((224, 224)),\n",
    "        transforms.ToTensor(),\n",
    "        transforms.Normalize(mean=[0.485, 0.456, 0.406], std=[0.229, 0.224, 0.225])\n",
    "    ])\n",
    "    image = Image.open(image_path)\n",
    "    image = transform(image).unsqueeze(0)  # Add batch dimension\n",
    "    image = image.to(device)  # Move image to the device\n",
    "    \n",
    "    with torch.no_grad():  # Disable gradient calculation\n",
    "        outputs = model(image)\n",
    "        _, predicted = outputs.max(1)\n",
    "        \n",
    "    return predicted.item()\n"
   ]
  },
  {
   "cell_type": "code",
   "execution_count": 35,
   "metadata": {},
   "outputs": [
    {
     "name": "stdout",
     "output_type": "stream",
     "text": [
      "Prediction: Dog\n",
      "Predicted Class: 1\n"
     ]
    }
   ],
   "source": [
    "# Path to the image you want to test\n",
    "image_path = 'download.jpeg'\n",
    "\n",
    "# Make a prediction\n",
    "predicted_class = predict_image(image_path, model, device)\n",
    "print(f'Prediction: {\"Dog\" if predicted_class == 1 else \"Cat\"}')\n",
    "print(f'Predicted Class: {predicted_class}')\n"
   ]
  }
 ],
 "metadata": {
  "kernelspec": {
   "display_name": "Python 3",
   "language": "python",
   "name": "python3"
  },
  "language_info": {
   "codemirror_mode": {
    "name": "ipython",
    "version": 3
   },
   "file_extension": ".py",
   "mimetype": "text/x-python",
   "name": "python",
   "nbconvert_exporter": "python",
   "pygments_lexer": "ipython3",
   "version": "3.10.12"
  }
 },
 "nbformat": 4,
 "nbformat_minor": 2
}
